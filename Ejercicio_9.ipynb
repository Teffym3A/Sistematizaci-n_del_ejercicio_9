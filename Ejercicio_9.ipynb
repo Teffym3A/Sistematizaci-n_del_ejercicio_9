{
 "cells": [
  {
   "cell_type": "code",
   "execution_count": 2,
   "metadata": {},
   "outputs": [],
   "source": [
    "from scipy.optimize import minimize\n",
    "import numpy as np"
   ]
  },
  {
   "cell_type": "code",
   "execution_count": 3,
   "metadata": {},
   "outputs": [],
   "source": [
    "e = 1e-10 # Muy cerca de 0\n",
    "fun = lambda x : 8 * (x[0] * x[1] * x[2]) # f(x,y,z) =8 *x*y*z\n",
    "cons = ({'type': 'eq', 'fun': lambda x: x[0]**2+ x[1]**2+ x[2]**2 - 1}, # x^2 + y^2 + z^2=1\n",
    "        {'type': 'ineq', 'fun': lambda x: x[0] - e}, # x> = e es equivalente ax> 0\n",
    "        {'type': 'ineq', 'fun': lambda x: x[1] - e},\n",
    "        {'type': 'ineq', 'fun': lambda x: x[2] - e}\n",
    "       )\n",
    "x0 = np.array((1.0, 1.0, 1.0)) # Establecer valor inicial\n",
    "res = minimize(fun, x0, method='SLSQP', constraints=cons)\n"
   ]
  },
  {
   "cell_type": "code",
   "execution_count": 12,
   "metadata": {},
   "outputs": [
    {
     "name": "stdout",
     "output_type": "stream",
     "text": [
      "Largo de la caja: 20\n",
      "Ancho de la caja: 15\n",
      "Alto de la caja: 10\n"
     ]
    },
    {
     "data": {
      "text/plain": [
       "4618.802173093625"
      ]
     },
     "execution_count": 12,
     "metadata": {},
     "output_type": "execute_result"
    }
   ],
   "source": [
    "a= float (input (\"Largo de la caja: \"))\n",
    "b= float (input (\"Ancho de la caja: \"))\n",
    "c= float (input (\"Alto de la caja: \"))\n",
    "res.fun*a*b*c "
   ]
  }
 ],
 "metadata": {
  "kernelspec": {
   "display_name": "Python 3",
   "language": "python",
   "name": "python3"
  },
  "language_info": {
   "codemirror_mode": {
    "name": "ipython",
    "version": 3
   },
   "file_extension": ".py",
   "mimetype": "text/x-python",
   "name": "python",
   "nbconvert_exporter": "python",
   "pygments_lexer": "ipython3",
   "version": "3.7.6"
  }
 },
 "nbformat": 4,
 "nbformat_minor": 4
}
